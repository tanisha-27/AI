{
  "nbformat": 4,
  "nbformat_minor": 0,
  "metadata": {
    "colab": {
      "name": "Untitled9.ipynb",
      "provenance": [],
      "authorship_tag": "ABX9TyP1Ri03KgawzgVtmhcCt9+S",
      "include_colab_link": true
    },
    "kernelspec": {
      "name": "python3",
      "display_name": "Python 3"
    }
  },
  "cells": [
    {
      "cell_type": "markdown",
      "metadata": {
        "id": "view-in-github",
        "colab_type": "text"
      },
      "source": [
        "<a href=\"https://colab.research.google.com/github/tanisha-27/AI/blob/master/CWJ009(1aug).ipynb\" target=\"_parent\"><img src=\"https://colab.research.google.com/assets/colab-badge.svg\" alt=\"Open In Colab\"/></a>"
      ]
    },
    {
      "cell_type": "code",
      "metadata": {
        "id": "oysr4WpqGfLs",
        "colab_type": "code",
        "colab": {}
      },
      "source": [
        "import pandas as pd\n",
        "import numpy as np"
      ],
      "execution_count": 2,
      "outputs": []
    },
    {
      "cell_type": "code",
      "metadata": {
        "id": "S_wRFbHqGudq",
        "colab_type": "code",
        "colab": {
          "base_uri": "https://localhost:8080/",
          "height": 34
        },
        "outputId": "e4b108f8-6db2-44d4-b17b-b0fe8a97742e"
      },
      "source": [
        "sum(range(1,5))"
      ],
      "execution_count": 3,
      "outputs": [
        {
          "output_type": "execute_result",
          "data": {
            "text/plain": [
              "10"
            ]
          },
          "metadata": {
            "tags": []
          },
          "execution_count": 3
        }
      ]
    },
    {
      "cell_type": "code",
      "metadata": {
        "id": "lZuAnnHuGx7L",
        "colab_type": "code",
        "colab": {}
      },
      "source": [
        "def factorial(n):\n",
        "  if n == 1:\n",
        "    return n\n",
        "  elif n < 1:\n",
        "    return (\"NA\")\n",
        "  else:\n",
        "    return n*factorial(n-1)"
      ],
      "execution_count": 10,
      "outputs": []
    },
    {
      "cell_type": "code",
      "metadata": {
        "id": "QQZHcPx8G8or",
        "colab_type": "code",
        "colab": {
          "base_uri": "https://localhost:8080/",
          "height": 34
        },
        "outputId": "2733578e-7fa8-4836-d9e9-48e22e5b5666"
      },
      "source": [
        "factorial(10)"
      ],
      "execution_count": 11,
      "outputs": [
        {
          "output_type": "execute_result",
          "data": {
            "text/plain": [
              "3628800"
            ]
          },
          "metadata": {
            "tags": []
          },
          "execution_count": 11
        }
      ]
    },
    {
      "cell_type": "code",
      "metadata": {
        "id": "EMkyKaMDHBB0",
        "colab_type": "code",
        "colab": {}
      },
      "source": [
        "def factorial_simp(n):\n",
        "  factor = 1\n",
        "  for i in range(1, n+1):\n",
        "    factor*=i\n",
        "  return factor"
      ],
      "execution_count": 16,
      "outputs": []
    },
    {
      "cell_type": "code",
      "metadata": {
        "id": "bqX6F8OgHIAV",
        "colab_type": "code",
        "colab": {
          "base_uri": "https://localhost:8080/",
          "height": 34
        },
        "outputId": "f4249274-dd70-4556-a1b1-d672f58bd61f"
      },
      "source": [
        "factorial_simp(10)"
      ],
      "execution_count": 17,
      "outputs": [
        {
          "output_type": "execute_result",
          "data": {
            "text/plain": [
              "3628800"
            ]
          },
          "metadata": {
            "tags": []
          },
          "execution_count": 17
        }
      ]
    },
    {
      "cell_type": "code",
      "metadata": {
        "id": "hakjW-nSHLmf",
        "colab_type": "code",
        "colab": {}
      },
      "source": [
        "def fibonnaci(n):\n",
        "  if n<=1:\n",
        "     return n\n",
        "  else:\n",
        "     return (fibonnaci(n-1)+fibonnaci(n-2))"
      ],
      "execution_count": 22,
      "outputs": []
    },
    {
      "cell_type": "code",
      "metadata": {
        "id": "HKT6PL06HTHj",
        "colab_type": "code",
        "colab": {
          "base_uri": "https://localhost:8080/",
          "height": 34
        },
        "outputId": "d4e59d02-234c-4000-9321-435d7aaa27f0"
      },
      "source": [
        "fibonnaci(7)"
      ],
      "execution_count": 23,
      "outputs": [
        {
          "output_type": "execute_result",
          "data": {
            "text/plain": [
              "13"
            ]
          },
          "metadata": {
            "tags": []
          },
          "execution_count": 23
        }
      ]
    },
    {
      "cell_type": "code",
      "metadata": {
        "id": "cMv-jiAXHW73",
        "colab_type": "code",
        "colab": {}
      },
      "source": [
        "def fibonnaci_simp(n):\n",
        "  n1 = 0\n",
        "  n2 = 1\n",
        "  count = 0\n",
        "  if n<=0:\n",
        "    print('Invalid Input')\n",
        "  elif n==1:\n",
        "    print(n1,'\\n')\n",
        "  else:\n",
        "    while count<n:\n",
        "      n_th = n1 + n2\n",
        "      n1 = n2\n",
        "      n2 = n_th\n",
        "      count+=1\n",
        "    print(n1)"
      ],
      "execution_count": 38,
      "outputs": []
    },
    {
      "cell_type": "code",
      "metadata": {
        "id": "QVuB5EUcHkl5",
        "colab_type": "code",
        "colab": {
          "base_uri": "https://localhost:8080/",
          "height": 34
        },
        "outputId": "95ecaa7e-9a79-42af-d17d-26f8db2200a1"
      },
      "source": [
        "fibonnaci_simp(7)"
      ],
      "execution_count": 39,
      "outputs": [
        {
          "output_type": "stream",
          "text": [
            "13\n"
          ],
          "name": "stdout"
        }
      ]
    }
  ]
}