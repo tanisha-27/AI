{
  "nbformat": 4,
  "nbformat_minor": 0,
  "metadata": {
    "colab": {
      "name": "CW_J009",
      "provenance": [],
      "authorship_tag": "ABX9TyNMdS3imI83HdXJi1ivFSNd",
      "include_colab_link": true
    },
    "kernelspec": {
      "name": "python3",
      "display_name": "Python 3"
    }
  },
  "cells": [
    {
      "cell_type": "markdown",
      "metadata": {
        "id": "view-in-github",
        "colab_type": "text"
      },
      "source": [
        "<a href=\"https://colab.research.google.com/github/tanisha-27/AI/blob/master/CW/CW_J009.ipynb\" target=\"_parent\"><img src=\"https://colab.research.google.com/assets/colab-badge.svg\" alt=\"Open In Colab\"/></a>"
      ]
    },
    {
      "cell_type": "code",
      "metadata": {
        "id": "-bs2FwbiFz14",
        "colab_type": "code",
        "colab": {
          "base_uri": "https://localhost:8080/",
          "height": 68
        },
        "outputId": "3ed5f694-344a-4556-f084-013023c23da8"
      },
      "source": [
        "#list\n",
        "a = [1,2,3,4,5, 'human']\n",
        "print(a)\n",
        "b= [[1,2,3,4,5, 'human'],[1,2,3,4,5],[3,4,5,'human']]\n",
        "\n",
        "#tuple\n",
        "a = (1,2,3,4,5, 'human')\n",
        "\n",
        "#set\n",
        "a = {1,2,3,4,5, 'human'}\n",
        "\n",
        "#dictionary\n",
        "a= {'list' :[1,2,3,4,5, 'human'],\n",
        "    'tuple' :(1,2,3,4,5, 'human'),\n",
        "    'set' :{1,2,3,4,5, 'human'}}\n",
        "\n",
        "t= [1,2,3,4,5,6]\n",
        "print(t)\n",
        "\n",
        "t.pop()\n",
        "\n",
        "t\n",
        "\n",
        "t={9,8,7,6,5,3,2,1,0}\n",
        "\n",
        "t.pop()\n",
        "\n",
        "t\n",
        "\n",
        "t.pop()\n",
        "\n"
      ],
      "execution_count": 5,
      "outputs": [
        {
          "output_type": "stream",
          "text": [
            "[1, 2, 3, 4, 5, 'human']\n",
            "[1, 2, 3, 4, 5, 6]\n"
          ],
          "name": "stdout"
        },
        {
          "output_type": "execute_result",
          "data": {
            "text/plain": [
              "1"
            ]
          },
          "metadata": {
            "tags": []
          },
          "execution_count": 5
        }
      ]
    }
  ]
}